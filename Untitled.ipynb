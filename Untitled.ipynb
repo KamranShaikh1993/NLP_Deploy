{
 "cells": [
  {
   "cell_type": "code",
   "execution_count": 1,
   "id": "1bf764ff",
   "metadata": {},
   "outputs": [],
   "source": [
    "# To read data from model.pkl and cv.pkl file\n",
    "# Also to check if object of model and cv(CountVectorizer) is saved or not in this pickle file "
   ]
  },
  {
   "cell_type": "code",
   "execution_count": 2,
   "id": "cc506c6f",
   "metadata": {},
   "outputs": [],
   "source": [
    "import pickle"
   ]
  },
  {
   "cell_type": "code",
   "execution_count": 3,
   "id": "75d863f0",
   "metadata": {},
   "outputs": [],
   "source": [
    "file1 = open(\"model.pkl\",'rb')   # Open file in read binary format\n",
    "file2 = open(\"CountVector.pkl\",'rb')"
   ]
  },
  {
   "cell_type": "code",
   "execution_count": 4,
   "id": "2dd0e4c6",
   "metadata": {},
   "outputs": [],
   "source": [
    "model = pickle.load(file1)  # To read data from file1 and hold it in model object\n",
    "cv = pickle.load(file2)  # To read data from file2 and hold it in cv object"
   ]
  },
  {
   "cell_type": "code",
   "execution_count": 5,
   "id": "75a7914a",
   "metadata": {},
   "outputs": [],
   "source": [
    "# Make a dummy message\n",
    "msg = 'It was amazing. I liked it a lot'"
   ]
  },
  {
   "cell_type": "code",
   "execution_count": 6,
   "id": "4998072d",
   "metadata": {},
   "outputs": [],
   "source": [
    "# model.predict(msg)\n",
    "\n",
    "# We get an error at this setp because the msg in data in cv is stored in numerical format \n",
    "# hence we have to give the msg 1st to cv- file2 inoder to convert that msg into numerical format\n",
    "#and the that message is passed to is model- file1"
   ]
  },
  {
   "cell_type": "code",
   "execution_count": 7,
   "id": "44b6ae9e",
   "metadata": {},
   "outputs": [],
   "source": [
    "# This step will convert the input msg into numbers\n",
    "msg_cv = cv.transform([msg])"
   ]
  },
  {
   "cell_type": "code",
   "execution_count": 8,
   "id": "1074777a",
   "metadata": {},
   "outputs": [
    {
     "data": {
      "text/plain": [
       "array([1], dtype=int64)"
      ]
     },
     "execution_count": 8,
     "metadata": {},
     "output_type": "execute_result"
    }
   ],
   "source": [
    "model.predict(msg_cv)"
   ]
  },
  {
   "cell_type": "code",
   "execution_count": 9,
   "id": "d82f981a",
   "metadata": {},
   "outputs": [],
   "source": [
    "# eg2:\n",
    "msg2 = 'It was kind of ok but did not really like it'\n",
    "# msg2 = 'Wow I loved the movie'"
   ]
  },
  {
   "cell_type": "code",
   "execution_count": 10,
   "id": "d349a6da",
   "metadata": {},
   "outputs": [],
   "source": [
    "# This step will convert the input msg into numbers\n",
    "msg_cv2 = cv.transform([msg2])"
   ]
  },
  {
   "cell_type": "code",
   "execution_count": 11,
   "id": "7ccea508",
   "metadata": {},
   "outputs": [
    {
     "data": {
      "text/plain": [
       "array([0], dtype=int64)"
      ]
     },
     "execution_count": 11,
     "metadata": {},
     "output_type": "execute_result"
    }
   ],
   "source": [
    "model.predict(msg_cv2)"
   ]
  },
  {
   "cell_type": "code",
   "execution_count": null,
   "id": "787cc868",
   "metadata": {},
   "outputs": [],
   "source": []
  },
  {
   "cell_type": "code",
   "execution_count": 12,
   "id": "711deea0",
   "metadata": {},
   "outputs": [
    {
     "data": {
      "text/plain": [
       "0"
      ]
     },
     "execution_count": 12,
     "metadata": {},
     "output_type": "execute_result"
    }
   ],
   "source": [
    "model.predict(msg_cv2)[0]"
   ]
  },
  {
   "cell_type": "code",
   "execution_count": 13,
   "id": "6ee756a2",
   "metadata": {},
   "outputs": [
    {
     "data": {
      "text/plain": [
       "0"
      ]
     },
     "execution_count": 13,
     "metadata": {},
     "output_type": "execute_result"
    }
   ],
   "source": [
    "msg3 = 'It was kind of ok but did not really like it'\n",
    "# This step will convert the input msg into numbers\n",
    "msg_cv3 = cv.transform([msg3])\n",
    "model.predict(msg_cv3)[0]"
   ]
  },
  {
   "cell_type": "code",
   "execution_count": null,
   "id": "6900f0a9",
   "metadata": {},
   "outputs": [],
   "source": []
  },
  {
   "cell_type": "code",
   "execution_count": 14,
   "id": "64f8801a",
   "metadata": {},
   "outputs": [],
   "source": [
    "import pickle"
   ]
  },
  {
   "cell_type": "code",
   "execution_count": 15,
   "id": "003db413",
   "metadata": {},
   "outputs": [],
   "source": [
    "file1 = open(\"model.pkl\",'rb')   # Open file in read binary format\n",
    "file2 = open(\"CountVector.pkl\",'rb')"
   ]
  },
  {
   "cell_type": "code",
   "execution_count": 16,
   "id": "6a1b61ac",
   "metadata": {},
   "outputs": [],
   "source": [
    "model = pickle.load(file1)  # To read data from file1 and hold it in model object\n",
    "cv = pickle.load(file2)  # To read data from file2 and hold it in cv object"
   ]
  },
  {
   "cell_type": "code",
   "execution_count": 17,
   "id": "b65f6aa1",
   "metadata": {},
   "outputs": [],
   "source": [
    "# Make a dummy message\n",
    "msg = 'It was amazing. I liked it a lot'"
   ]
  },
  {
   "cell_type": "code",
   "execution_count": null,
   "id": "8ac5500b",
   "metadata": {},
   "outputs": [],
   "source": []
  },
  {
   "cell_type": "code",
   "execution_count": 18,
   "id": "e0014d43",
   "metadata": {},
   "outputs": [],
   "source": [
    "def predict_review(msg):    # predict_review is a user defined function\n",
    "    # This step will convert the input msg into numbers\n",
    "    msg_cv = cv.transform([msg])\n",
    "    result = model.predict(msg_cv)[0]\n",
    "    return result"
   ]
  },
  {
   "cell_type": "code",
   "execution_count": 22,
   "id": "05daf881",
   "metadata": {},
   "outputs": [
    {
     "data": {
      "text/plain": [
       "1"
      ]
     },
     "execution_count": 22,
     "metadata": {},
     "output_type": "execute_result"
    }
   ],
   "source": [
    "# call the function in main program\n",
    "predict_review('It was amazing. I liked it a lot')\n"
   ]
  },
  {
   "cell_type": "code",
   "execution_count": 24,
   "id": "9036117a",
   "metadata": {},
   "outputs": [
    {
     "data": {
      "text/plain": [
       "1"
      ]
     },
     "execution_count": 24,
     "metadata": {},
     "output_type": "execute_result"
    }
   ],
   "source": [
    "predict_review('I was just excellent')"
   ]
  },
  {
   "cell_type": "code",
   "execution_count": null,
   "id": "e572138c",
   "metadata": {},
   "outputs": [],
   "source": []
  }
 ],
 "metadata": {
  "kernelspec": {
   "display_name": "Python 3 (ipykernel)",
   "language": "python",
   "name": "python3"
  },
  "language_info": {
   "codemirror_mode": {
    "name": "ipython",
    "version": 3
   },
   "file_extension": ".py",
   "mimetype": "text/x-python",
   "name": "python",
   "nbconvert_exporter": "python",
   "pygments_lexer": "ipython3",
   "version": "3.9.13"
  }
 },
 "nbformat": 4,
 "nbformat_minor": 5
}
